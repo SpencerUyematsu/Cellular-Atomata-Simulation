{
 "cells": [
  {
   "cell_type": "markdown",
   "metadata": {},
   "source": [
    "<h3> Master of Molecular Sciences and Software Engineering</h3>\n",
    "<h3>UC Berkeley</h3>\n",
    "<h3> Chem 274B: Software Engineering Fundamentals for Molecular Sciences</h3>\n",
    "<h2>Chem 274B - Final Project/h2>\n",
    "<h3> <i>Cellular automata/i></h3>\n",
    "<b>Created by: Group <br>\n",
    "Date Created: 12/13/2023 <br>\n",
    "Last Modified:  </b>"
   ]
  },
  {
   "cell_type": "code",
   "execution_count": null,
   "metadata": {},
   "outputs": [],
   "source": [
    "import matplotlib.pyplot as plt\n",
    "import numpy as np\n",
    "import pandas as pd\n",
    "import seaborn as sns\n",
    "%matplotlib inline"
   ]
  },
  {
   "cell_type": "markdown",
   "metadata": {},
   "source": [
    "## Read in data"
   ]
  },
  {
   "cell_type": "code",
   "execution_count": null,
   "metadata": {},
   "outputs": [],
   "source": [
    "data_09 = pd.read_csv(\"../Data/virus_results_0.9.csv\")\n",
    "sim_info_09 = pd.read_csv(\"../Data/virus_simulation_stats_0.9.csv\")\n",
    "\n",
    "data_07 = pd.read_csv(\"../Data/virus_results_0.7.csv\")\n",
    "sim_info_07 = pd.read_csv(\"../Data/virus_simulation_stats_0.7.csv\")\n",
    "\n",
    "data_05 = pd.read_csv(\"../Data/virus_results_0.5.csv\")\n",
    "sim_info_05 = pd.read_csv(\"../Data/virus_simulation_stats_0.5.csv\")"
   ]
  },
  {
   "cell_type": "markdown",
   "metadata": {},
   "source": [
    "## Process Data"
   ]
  },
  {
   "cell_type": "code",
   "execution_count": null,
   "metadata": {},
   "outputs": [],
   "source": [
    "data_09.head()"
   ]
  },
  {
   "cell_type": "code",
   "execution_count": null,
   "metadata": {},
   "outputs": [],
   "source": [
    "sim_info_09.head()"
   ]
  },
  {
   "cell_type": "code",
   "execution_count": null,
   "metadata": {},
   "outputs": [],
   "source": [
    "width = sim_info_09['width'][0]\n",
    "height = sim_info_09['height'][0]"
   ]
  },
  {
   "cell_type": "code",
   "execution_count": null,
   "metadata": {},
   "outputs": [],
   "source": [
    "data_09 = data_09.values.reshape(-1, height, width)\n",
    "data_07 = data_07.values.reshape(-1, height, width)\n",
    "data_05 = data_05.values.reshape(-1, height, width)"
   ]
  },
  {
   "cell_type": "markdown",
   "metadata": {},
   "source": [
    "## Graph Results\n",
    "\n",
    "Probability of death = 10% once infected."
   ]
  },
  {
   "cell_type": "code",
   "execution_count": null,
   "metadata": {},
   "outputs": [],
   "source": [
    "sns.lineplot(data=sim_info_09, x = \"timestep\", y = \"count_for_type_0\", label = \"Healthy\")\n",
    "sns.lineplot(data=sim_info_09, x = \"timestep\", y = \"count_for_type_1\", label = \"Infected (stage 1)\")\n",
    "sns.lineplot(data=sim_info_09, x = \"timestep\", y = \"count_for_type_2\", label = \"Infected (stage 2)\")\n",
    "sns.lineplot(data=sim_info_09, x = \"timestep\", y = \"count_for_type_3\", label = \"Infected (stage 3)\")\n",
    "sns.lineplot(data=sim_info_09, x = \"timestep\", y = \"count_for_type_4\", label = \"Dead\")\n",
    "plt.ylabel(\"Cell Count\")"
   ]
  },
  {
   "cell_type": "code",
   "execution_count": null,
   "metadata": {},
   "outputs": [],
   "source": [
    "for i in range(len(sim_info_09)):\n",
    "    plt.figure()\n",
    "    sns.heatmap(data_09[i], cmap='RdYlGn_r')\n",
    "    plt.title(\"Time = \" + str(i))"
   ]
  },
  {
   "cell_type": "markdown",
   "metadata": {},
   "source": [
    "## Probability of death = 30% once infected"
   ]
  },
  {
   "cell_type": "code",
   "execution_count": null,
   "metadata": {},
   "outputs": [],
   "source": [
    "sns.lineplot(data=sim_info_07, x = \"timestep\", y = \"count_for_type_0\", label = \"Healthy\")\n",
    "sns.lineplot(data=sim_info_07, x = \"timestep\", y = \"count_for_type_1\", label = \"Infected (stage 1)\")\n",
    "sns.lineplot(data=sim_info_07, x = \"timestep\", y = \"count_for_type_2\", label = \"Infected (stage 2)\")\n",
    "sns.lineplot(data=sim_info_07, x = \"timestep\", y = \"count_for_type_3\", label = \"Infected (stage 3)\")\n",
    "sns.lineplot(data=sim_info_07, x = \"timestep\", y = \"count_for_type_4\", label = \"Dead\")\n",
    "plt.ylabel(\"Cell Count\")"
   ]
  },
  {
   "cell_type": "code",
   "execution_count": null,
   "metadata": {},
   "outputs": [],
   "source": [
    "for i in range(len(sim_info_07)):\n",
    "    plt.figure()\n",
    "    sns.heatmap(data_07[i], cmap='RdYlGn_r')\n",
    "    plt.title(\"Time = \" + str(i))"
   ]
  },
  {
   "cell_type": "markdown",
   "metadata": {},
   "source": [
    "## Probability of death = 30% once infected"
   ]
  },
  {
   "cell_type": "code",
   "execution_count": null,
   "metadata": {},
   "outputs": [],
   "source": [
    "sns.lineplot(data=sim_info_05, x = \"timestep\", y = \"count_for_type_0\", label = \"Healthy\")\n",
    "sns.lineplot(data=sim_info_05, x = \"timestep\", y = \"count_for_type_1\", label = \"Infected (stage 1)\")\n",
    "sns.lineplot(data=sim_info_05, x = \"timestep\", y = \"count_for_type_2\", label = \"Infected (stage 2)\")\n",
    "sns.lineplot(data=sim_info_05, x = \"timestep\", y = \"count_for_type_3\", label = \"Infected (stage 3)\")\n",
    "sns.lineplot(data=sim_info_05, x = \"timestep\", y = \"count_for_type_4\", label = \"Dead\")\n",
    "plt.ylabel(\"Cell Count\")"
   ]
  },
  {
   "cell_type": "code",
   "execution_count": null,
   "metadata": {},
   "outputs": [],
   "source": [
    "for i in range(len(sim_info_05)):\n",
    "    plt.figure()\n",
    "    sns.heatmap(data_05[i], cmap='RdYlGn_r')\n",
    "    plt.title(\"Time = \" + str(i))"
   ]
  }
 ],
 "metadata": {
  "kernelspec": {
   "display_name": "msse-python",
   "language": "python",
   "name": "python3"
  },
  "language_info": {
   "codemirror_mode": {
    "name": "ipython",
    "version": 3
   },
   "file_extension": ".py",
   "mimetype": "text/x-python",
   "name": "python",
   "nbconvert_exporter": "python",
   "pygments_lexer": "ipython3",
   "version": "3.10.12"
  },
  "orig_nbformat": 4
 },
 "nbformat": 4,
 "nbformat_minor": 2
}
